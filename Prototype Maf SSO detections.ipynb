{
 "cells": [
  {
   "cell_type": "markdown",
   "metadata": {},
   "source": [
    "Adding solar system object (SSO) metric capabilities to [MAF](https://confluence.lsstcorp.org/display/SIM/MAF+documentation) moves far enough beyond the current concepts of slicers + metrics in MAF that it seems worthwhile to prototype the functionality required, and then see how we should map this back into classes for MAF.\n",
    "\n",
    "The general concept in MAF (for stationary objects) is: \n",
    "* read the pointing history from the opsim sqlite database\n",
    "* determine how to subdivide the pointing history appropriately for a desired metric measurement + use the appropriate `slicer` to do so\n",
    "* iterate over the `slicer` and apply a `metric` (python class which makes a measurement on a given data slice) at each slice|\n",
    "* consolidate the metric results at each slicepoint, as appropriate given the slicer (i.e. make a skymap, etc.)\n",
    "\n",
    "For moving objects, we have additional steps and instead of the metric being applied per \"subdivision of the pointing history\" (per RA/Dec pointing, for example), we probably want to think of the metric being applied \"per SSO\". \n",
    "So the steps could be:\n",
    "* read the orbital parameters and Hmag for each SSO\n",
    "* read the pointing history from the opsim sqlite database\n",
    "* determine when each individual object would be detected and what its magnitude would be in each detection (potentially, only record observations where the detection is > 5sigma??)\n",
    "* apply metric based on observations\n",
    "*  .. additional wrinkles: because this is slow (per object), we are also interested in (a) saving the pointing history for all objects and (b) allowing each object to be cloned to a variety of different H mags (equivalent to cloning over the size distribution, so that each single orbital parameter set represents a range of different objects). "
   ]
  },
  {
   "cell_type": "markdown",
   "metadata": {},
   "source": [
    "---"
   ]
  },
  {
   "cell_type": "code",
   "execution_count": 37,
   "metadata": {
    "collapsed": true
   },
   "outputs": [],
   "source": [
    "import numpy as np\n",
    "%matplotlib inline\n",
    "import matplotlib.pyplot as plt\n",
    "import pandas\n",
    "import pyoorb as oo"
   ]
  },
  {
   "cell_type": "markdown",
   "metadata": {},
   "source": [
    "Get the pointing history information from the opsim sqlite output (for now, just a limited subset of the nights)"
   ]
  },
  {
   "cell_type": "code",
   "execution_count": 5,
   "metadata": {
    "collapsed": false
   },
   "outputs": [],
   "source": [
    "from lsst.sims.maf.db import OpsimDatabase"
   ]
  },
  {
   "cell_type": "code",
   "execution_count": 6,
   "metadata": {
    "collapsed": true
   },
   "outputs": [],
   "source": [
    "dbAddress = 'sqlite:///enigma_1189_sqlite.db'\n",
    "oo = OpsimDatabase(dbAddress)"
   ]
  },
  {
   "cell_type": "code",
   "execution_count": 10,
   "metadata": {
    "collapsed": false
   },
   "outputs": [
    {
     "name": "stdout",
     "output_type": "stream",
     "text": [
      "('obsHistID', 'expMJD', 'fieldRA', 'fieldDec', 'filter', 'finSeeing', 'fiveSigmaDepth')\n",
      "(1, 49353.032079, 1.676483, -1.082473, 'y', 0.954372, 21.084291)\n"
     ]
    }
   ],
   "source": [
    "dbcols = ['expMJD', 'fieldRA', 'fieldDec', 'filter', 'finSeeing', 'fiveSigmaDepth']\n",
    "sqlconstraint = 'night<60'  \n",
    "simdata = oo.fetchMetricData(dbcols, sqlconstraint)\n",
    "print simdata.dtype.names\n",
    "print simdata[0]"
   ]
  },
  {
   "cell_type": "markdown",
   "metadata": {},
   "source": [
    "---\n",
    "Read the moving object orbital information. For now, we'll use pandas to read it in, but this should be done in MAF later, similarly to how the opsim pointings are read."
   ]
  },
  {
   "cell_type": "code",
   "execution_count": 54,
   "metadata": {
    "collapsed": false
   },
   "outputs": [],
   "source": [
    "orbits = pandas.read_table('pha20141031.des', sep=' ')"
   ]
  },
  {
   "cell_type": "code",
   "execution_count": 55,
   "metadata": {
    "collapsed": false
   },
   "outputs": [
    {
     "data": {
      "text/html": [
       "<div style=\"max-height:1000px;max-width:1500px;overflow:auto;\">\n",
       "<table border=\"1\" class=\"dataframe\">\n",
       "  <thead>\n",
       "    <tr style=\"text-align: right;\">\n",
       "      <th></th>\n",
       "      <th>!!ObjID</th>\n",
       "      <th>FORMAT</th>\n",
       "      <th>q</th>\n",
       "      <th>e</th>\n",
       "      <th>i</th>\n",
       "      <th>Omega/node</th>\n",
       "      <th>omega/argperi</th>\n",
       "      <th>t_p</th>\n",
       "      <th>magHv</th>\n",
       "      <th>t_0</th>\n",
       "      <th>INDEX</th>\n",
       "      <th>N_PAR</th>\n",
       "      <th>MOID</th>\n",
       "      <th>COMPCODE</th>\n",
       "    </tr>\n",
       "  </thead>\n",
       "  <tbody>\n",
       "    <tr>\n",
       "      <th>0</th>\n",
       "      <td> 0</td>\n",
       "      <td> COM</td>\n",
       "      <td> 0.186523</td>\n",
       "      <td> 0.826961</td>\n",
       "      <td> 22.827817</td>\n",
       "      <td>  88.024464</td>\n",
       "      <td>  31.358208</td>\n",
       "      <td> 49090.767296</td>\n",
       "      <td> 20</td>\n",
       "      <td> 49353.16</td>\n",
       "      <td> 1</td>\n",
       "      <td> 6</td>\n",
       "      <td> 10</td>\n",
       "      <td> PYOORB</td>\n",
       "    </tr>\n",
       "    <tr>\n",
       "      <th>1</th>\n",
       "      <td> 1</td>\n",
       "      <td> COM</td>\n",
       "      <td> 0.827770</td>\n",
       "      <td> 0.335431</td>\n",
       "      <td> 13.337659</td>\n",
       "      <td> 337.219357</td>\n",
       "      <td> 276.868840</td>\n",
       "      <td> 48990.932835</td>\n",
       "      <td> 20</td>\n",
       "      <td> 49353.16</td>\n",
       "      <td> 1</td>\n",
       "      <td> 6</td>\n",
       "      <td> 10</td>\n",
       "      <td> PYOORB</td>\n",
       "    </tr>\n",
       "    <tr>\n",
       "      <th>2</th>\n",
       "      <td> 2</td>\n",
       "      <td> COM</td>\n",
       "      <td> 0.646745</td>\n",
       "      <td> 0.560063</td>\n",
       "      <td>  6.353077</td>\n",
       "      <td>  35.696938</td>\n",
       "      <td> 285.875200</td>\n",
       "      <td> 49239.645606</td>\n",
       "      <td> 20</td>\n",
       "      <td> 49353.16</td>\n",
       "      <td> 1</td>\n",
       "      <td> 6</td>\n",
       "      <td> 10</td>\n",
       "      <td> PYOORB</td>\n",
       "    </tr>\n",
       "  </tbody>\n",
       "</table>\n",
       "</div>"
      ],
      "text/plain": [
       "   !!ObjID FORMAT         q         e          i  Omega/node  omega/argperi  \\\n",
       "0        0    COM  0.186523  0.826961  22.827817   88.024464      31.358208   \n",
       "1        1    COM  0.827770  0.335431  13.337659  337.219357     276.868840   \n",
       "2        2    COM  0.646745  0.560063   6.353077   35.696938     285.875200   \n",
       "\n",
       "            t_p  magHv       t_0  INDEX  N_PAR  MOID COMPCODE  \n",
       "0  49090.767296     20  49353.16      1      6    10   PYOORB  \n",
       "1  48990.932835     20  49353.16      1      6    10   PYOORB  \n",
       "2  49239.645606     20  49353.16      1      6    10   PYOORB  "
      ]
     },
     "execution_count": 55,
     "metadata": {},
     "output_type": "execute_result"
    }
   ],
   "source": [
    "orbits[0:3]"
   ]
  },
  {
   "cell_type": "code",
   "execution_count": 56,
   "metadata": {
    "collapsed": false
   },
   "outputs": [
    {
     "name": "stdout",
     "output_type": "stream",
     "text": [
      "1510 ('index', '!!ObjID', 'FORMAT', 'q', 'e', 'i', 'Omega/node', 'omega/argperi', 't_p', 'magHv', 't_0', 'INDEX', 'N_PAR', 'MOID', 'COMPCODE') (0, 0, 'COM', 0.1865233429220149, 0.82696095, 22.827817, 88.02446399999998, 31.358208, 49090.767295844285, 20.0, 49353.16, 1, 6, 10, 'PYOORB')\n"
     ]
    }
   ],
   "source": [
    "orbits = orbits.to_records()\n",
    "print len(orbits), orbits.dtype.names, orbits[0]"
   ]
  },
  {
   "cell_type": "markdown",
   "metadata": {},
   "source": [
    "It's too expensive to calculate ephemerides for every object at the time of every opsim pointing. Let's start with calculating the positions every 2 hours for PHAs.  Because pyoorb is a python interface to a Fortran program (OpenOrb) we have to do some awkwardness with array-rearranging."
   ]
  },
  {
   "cell_type": "code",
   "execution_count": 78,
   "metadata": {
    "collapsed": false
   },
   "outputs": [],
   "source": [
    "timestep = 2.0 / 24.0  # in days\n",
    "times = np.arange(simdata['expMJD'][0], simdata['expMJD'][-1] + timestep/2.0, timestep)\n",
    "ephTimescale = 4*np.ones(len(times))  # 1= MJD_UTC, 2=UT1, 3=TT, 4=TAI (timescale for the ephemerides)\n",
    "ephTimes = np.array(zip(times, ephTimescale), dtype='double', order='F')"
   ]
  },
  {
   "cell_type": "markdown",
   "metadata": {},
   "source": [
    "Set up pyoorb (reads in JPL ephemerides for major planets, etc.). We could potentially use command-line OpenOrb, and spawn from python .. but since it wants file input/output rather than stdin/out this seems problematic."
   ]
  },
  {
   "cell_type": "code",
   "execution_count": 79,
   "metadata": {
    "collapsed": false
   },
   "outputs": [
    {
     "data": {
      "text/plain": [
       "1"
      ]
     },
     "execution_count": 79,
     "metadata": {},
     "output_type": "execute_result"
    }
   ],
   "source": [
    "oo.pyoorb.oorb_init(ephemeris_fname=\"\")"
   ]
  },
  {
   "cell_type": "markdown",
   "metadata": {},
   "source": [
    "Python oorb element format: \n",
    "        # Translate orbital elements into array that pyoorb will like.\n",
    "        # PyOrb wants ::\n",
    "        # 0: orbitId  (cannot be a string)\n",
    "        # 1 - 6: orbital elements, using radians for angles\n",
    "        # 7: element type code, where 2 = cometary - means timescale is TT, too\n",
    "        # 8: epoch\n",
    "        # 9: timescale for the epoch; 1= MJD_UTC, 2=UT1, 3=TT, 4=TAI\n",
    "        # 10: magHv\n",
    "        # 11: G\n",
    "so we have to do a little translating from the orbits DataFrame to the elements we want in this array. "
   ]
  },
  {
   "cell_type": "markdown",
   "metadata": {},
   "source": [
    "Also, the ephemeride generation can be more efficiently done for multiple objects at a time, but then we have to figure out how to balance the amount of ephemerides created (for how many objects, for how long) vs. memory available and how we want to access them later. Let's see if the simplest method (iterating over the objects one by one) will be fast enough."
   ]
  },
  {
   "cell_type": "markdown",
   "metadata": {},
   "source": [
    "More awkwardness with the ephems and elems arrays:\n",
    "       # Returned ephems contain a 3-D Fortran array of ephemerides, the axes are:\n",
    "        #   [objid][time][ephemeris information element]\n",
    "        # the ephemeris information elements are (in order):\n",
    "        # distance, ra, dec, mag, ephem mjd, ephem mjd timescale, dradt(sky), ddecdt(sky)\n",
    "        # per object, per date, 8 elements (array shape is OBJ(s)/DATE(s)/VALUES)\n",
    "        # Note that ra/dec, dradt, etc. are all in DEGREES."
   ]
  },
  {
   "cell_type": "code",
   "execution_count": 100,
   "metadata": {
    "collapsed": false
   },
   "outputs": [
    {
     "name": "stdout",
     "output_type": "stream",
     "text": [
      "49353.032079\n",
      "49353.032079\n"
     ]
    }
   ],
   "source": [
    "for sso in orbits[1:2]:\n",
    "    elems = [sso['!!ObjID'], sso['q'], sso['e'], np.radians(sso['i']), np.radians(sso['Omega/node']), \n",
    "             np.radians(sso['omega/argperi']), sso['t_p'],  2, sso['t_0'], 3, sso['magHv'], 0.15]\n",
    "    elems = np.column_stack(elems)\n",
    "    ephems, err = oo.pyoorb.oorb_ephemeris(in_orbits = elems, in_obscode=807, in_date_ephems=ephTimes)\n",
    "    print ephems[0][0][4]\n",
    "    print times[0]"
   ]
  },
  {
   "cell_type": "code",
   "execution_count": null,
   "metadata": {
    "collapsed": true
   },
   "outputs": [],
   "source": []
  }
 ],
 "metadata": {
  "kernelspec": {
   "display_name": "Python 2",
   "language": "python",
   "name": "python2"
  },
  "language_info": {
   "codemirror_mode": {
    "name": "ipython",
    "version": 2
   },
   "file_extension": ".py",
   "mimetype": "text/x-python",
   "name": "python",
   "nbconvert_exporter": "python",
   "pygments_lexer": "ipython2",
   "version": "2.7.9"
  }
 },
 "nbformat": 4,
 "nbformat_minor": 0
}
